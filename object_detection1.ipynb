{
  "nbformat": 4,
  "nbformat_minor": 0,
  "metadata": {
    "colab": {
      "name": "object_detection1.ipynb",
      "provenance": [],
      "collapsed_sections": [],
      "authorship_tag": "ABX9TyOxtB8/VyGBr4NWPm+C0xhE",
      "include_colab_link": true
    },
    "kernelspec": {
      "name": "python3",
      "display_name": "Python 3"
    },
    "language_info": {
      "name": "python"
    },
    "accelerator": "GPU",
    "gpuClass": "standard"
  },
  "cells": [
    {
      "cell_type": "markdown",
      "metadata": {
        "id": "view-in-github",
        "colab_type": "text"
      },
      "source": [
        "<a href=\"https://colab.research.google.com/github/cdmurray80/object_detection/blob/main/object_detection1.ipynb\" target=\"_parent\"><img src=\"https://colab.research.google.com/assets/colab-badge.svg\" alt=\"Open In Colab\"/></a>"
      ]
    },
    {
      "cell_type": "code",
      "execution_count": null,
      "metadata": {
        "id": "jSlhB_p3YM7m"
      },
      "outputs": [],
      "source": [
        "# Docs: https://tensorflow-object-detection-api-tutorial.readthedocs.io/en/2.2.0/install.html#tensorflow-object-detection-api-installation"
      ]
    },
    {
      "cell_type": "code",
      "source": [
        "# Mount drive\n",
        "#\n",
        "#\n",
        "from google.colab import drive\n",
        "drive.mount('/content/drive', force_remount=True) "
      ],
      "metadata": {
        "id": "TauNjNIrYtdf"
      },
      "execution_count": null,
      "outputs": []
    },
    {
      "cell_type": "code",
      "source": [
        "import tensorflow as tf\n",
        "tf.__version__\n"
      ],
      "metadata": {
        "id": "9DLXflKdsJfX"
      },
      "execution_count": null,
      "outputs": []
    },
    {
      "cell_type": "code",
      "source": [
        "def do_setup():\n",
        "  #\n",
        "  #%pip install --ignore-installed --upgrade tensorflow\n",
        "  #\n",
        "  #!pip install tensorflow==2.8\n",
        "  !apt install --allow-change-held-packages libcudnn8=8.1.0.77-1+cuda11.2\n",
        "\n",
        "  import os\n",
        "  if not os.path.isdir('/content/tensorflow'):\n",
        "    %mkdir tensorflow\n",
        "  %cd /content/tensorflow\n",
        "  !git clone --depth 1 https://github.com/tensorflow/models\n",
        "\n",
        "  %cd /content/tensorflow/models/research\n",
        "  %ls\n",
        "  !protoc object_detection/protos/*.proto --python_out=.\n",
        "\n",
        "  %pip install cython\n",
        "  %pip install git+https://github.com/philferriere/cocoapi.git#subdirectory=PythonAPI\n",
        "\n",
        "  %cd /content/tensorflow/models/research\n",
        "  !cp object_detection/packages/tf2/setup.py .\n",
        "  !python -m pip install --use-feature=2020-resolver .\n",
        "\n",
        "def test_setup():\n",
        "  !python object_detection/builders/model_builder_tf2_test.py\n"
      ],
      "metadata": {
        "id": "cKSCvUtSYz2o"
      },
      "execution_count": null,
      "outputs": []
    },
    {
      "cell_type": "code",
      "source": [
        "do_setup()\n",
        "test_setup()"
      ],
      "metadata": {
        "id": "tDMy05V-ZM2w"
      },
      "execution_count": null,
      "outputs": []
    },
    {
      "cell_type": "code",
      "source": [
        "import os\n",
        "WORKSPACE_DIR='/content/tensorflow/workspace'\n",
        "test_dir=WORKSPACE_DIR+'/training_demo/images/test'\n",
        "train_dir=WORKSPACE_DIR+'/training_demo/images/train'\n",
        "model_dir=WORKSPACE_DIR+'/training_demo/pre-trained-models'\n",
        "annotations_dir=WORKSPACE_DIR + '/training_demo/annotations'\n",
        "for d in [WORKSPACE_DIR, WORKSPACE_DIR+'/training_demo', WORKSPACE_DIR+'/training_demo/images', annotations_dir, WORKSPACE_DIR+'/training_demo/scripts', train_dir, test_dir, model_dir]:\n",
        "  if not os.path.exists(d):\n",
        "    os.mkdir(d)\n",
        "    print('Created directory', d)"
      ],
      "metadata": {
        "id": "H1NaYP3YcPjI"
      },
      "execution_count": null,
      "outputs": []
    },
    {
      "cell_type": "code",
      "source": [
        "#Get all xml files\n",
        "import glob,shutil\n",
        "import xml.etree.ElementTree as ET\n",
        "paths=['/content/drive/MyDrive/Research/object_detection/images/final_MLRS', '/content/drive/MyDrive/Research/object_detection/images/final_t72']\n",
        "xml_files=[glob.glob(path+'/*.xml') for path in paths]\n",
        "xml_files=[f for l in xml_files for f in l]\n",
        "\n",
        "#Move to train and test\n",
        "for i,f in enumerate(xml_files):\n",
        "  dir = test_dir if i % 5 == 4 else train_dir\n",
        "  #Get name of actual image file\n",
        "  tree=ET.parse(f)\n",
        "  root=tree.getroot()\n",
        "  img_file=root[1].text\n",
        "  f2=f.replace('.xml', '.'+ img_file.split('.')[-1])\n",
        "  shutil.copy2( f, dir)\n",
        "  shutil.copy2( f2, dir)"
      ],
      "metadata": {
        "id": "_gesoZzfdY8f"
      },
      "execution_count": null,
      "outputs": []
    },
    {
      "cell_type": "code",
      "source": [
        "#Create label file\n",
        "labels=['MLRS', 'tank']\n",
        "s=''\n",
        "for i,l in enumerate(labels):\n",
        "  s+='''item {\\n \\t id: %d\\n \\t name:'%s'\\n}\\n\\n''' % (i+1, l)\n",
        "#Write file\n",
        "label_file=annotations_dir+'/label_map.pbtxt'\n",
        "text_file = open(label_file, 'w')\n",
        "n = text_file.write(s)\n",
        "text_file.close()"
      ],
      "metadata": {
        "id": "diLiL-e6it-H"
      },
      "execution_count": null,
      "outputs": []
    },
    {
      "cell_type": "code",
      "source": [
        "#Script to create tfrecords\n",
        "src = '/content/drive/MyDrive/Research/object_detection/generate_tfrecord.py'\n",
        "dst = WORKSPACE_DIR+'/training_demo/scripts'\n",
        "shutil.copy2(src, dst)"
      ],
      "metadata": {
        "id": "99_bzWBooJwl"
      },
      "execution_count": null,
      "outputs": []
    },
    {
      "cell_type": "code",
      "source": [
        "# Create train and test tfrecords\n",
        "train_record_file=annotations_dir+'/train.record'\n",
        "test_record_file=annotations_dir+'/test.record'\n",
        "!python /content/drive/MyDrive/Research/object_detection/generate_tfrecord.py -x $train_dir -l $label_file -o $train_record_file\n",
        "!python /content/drive/MyDrive/Research/object_detection/generate_tfrecord.py -x $test_dir -l $label_file -o $test_record_file\n"
      ],
      "metadata": {
        "id": "qTLcg3hDp1t7"
      },
      "execution_count": null,
      "outputs": []
    },
    {
      "cell_type": "code",
      "source": [
        "import requests\n",
        "\n",
        "# More models are here\n",
        "model_name='efficientdet_d1_coco17_tpu-32'\n",
        "url = 'http://download.tensorflow.org/models/object_detection/tf2/20200711/'+model_name+'.tar.gz'\n",
        "target_file = WORKSPACE_DIR + '/training_demo/pre-trained-models/'+model_name+'.tar.gz'\n",
        "response = requests.get(url)\n",
        "open(target_file, \"wb\").write(response.content)\n"
      ],
      "metadata": {
        "id": "erG0SJXdujui"
      },
      "execution_count": null,
      "outputs": []
    },
    {
      "cell_type": "code",
      "source": [
        "%cd /content/tensorflow/workspace/training_demo/pre-trained-models\n",
        "!tar -xvzf $target_file "
      ],
      "metadata": {
        "id": "AorOgH3kxgtO"
      },
      "execution_count": null,
      "outputs": []
    },
    {
      "cell_type": "code",
      "source": [
        "#\n",
        "# The pipeline config points to a few things, including the model, so we'll modify it from a baseline version, then write it\n",
        "#\n",
        "with open('/content/drive/MyDrive/Research/object_detection/pipeline.config') as f:\n",
        "  pipeline_cfg_contents=f.read()\n",
        "pipeline_cfg_contents=pipeline_cfg_contents.replace('<fine_tune_checkpoint>', 'pre-trained-models/'+model_name + '/checkpoint/')\n",
        "for outfile in ['/content/drive/MyDrive/Research/object_detection/pipeline_automodified.config', model_dir + '/' + model_name + '/pipeline.config']:\n",
        "  with open(outfile, 'w') as f:\n",
        "    f.write(pipeline_cfg_contents)"
      ],
      "metadata": {
        "id": "pF7Skem2Glft"
      },
      "execution_count": null,
      "outputs": []
    },
    {
      "cell_type": "code",
      "source": [
        "shutil.copy2('/content/tensorflow/models/research/object_detection/model_main_tf2.py', WORKSPACE_DIR+'/training_demo')\n",
        "%cd /content/tensorflow/workspace/training_demo"
      ],
      "metadata": {
        "id": "b4dWd-IXHBE6"
      },
      "execution_count": null,
      "outputs": []
    },
    {
      "cell_type": "code",
      "source": [
        "%pip install \"opencv-python-headless<4.3\""
      ],
      "metadata": {
        "id": "LZhhSGztIHnu"
      },
      "execution_count": null,
      "outputs": []
    },
    {
      "cell_type": "code",
      "source": [
        "import tensorflow as tf\n",
        "tf.__version__"
      ],
      "metadata": {
        "id": "ruaj5zPVWNDg"
      },
      "execution_count": null,
      "outputs": []
    },
    {
      "cell_type": "code",
      "source": [
        ""
      ],
      "metadata": {
        "id": "a9Tep46ENq8K"
      },
      "execution_count": null,
      "outputs": []
    },
    {
      "cell_type": "code",
      "source": [
        "#!pip install tensorflow==2.7.0\n",
        "#\n",
        "# Fixme THIS EARLIER??\n",
        "#\n",
        "!ls pre-trained-models/efficientdet_d1_coco17_tpu-32/checkpoint"
      ],
      "metadata": {
        "id": "NuIGU5d9Wj2Y"
      },
      "execution_count": null,
      "outputs": []
    },
    {
      "cell_type": "code",
      "source": [
        "#!ls pre-trained-models/ssd_resnet50_v1_fpn_640x640_coco17_tpu-8/\n",
        "!ls pre-trained-models/$model_name/checkpoint"
      ],
      "metadata": {
        "id": "BI2akWkfaaZ-"
      },
      "execution_count": null,
      "outputs": []
    },
    {
      "cell_type": "code",
      "source": [
        "# Actually train!\n",
        "!python model_main_tf2.py --model_dir=pre-trained-models/$model_name/ --pipeline_config_path=pre-trained-models/$model_name/pipeline.config"
      ],
      "metadata": {
        "colab": {
          "base_uri": "https://localhost:8080/"
        },
        "id": "FDnIHmGKHZn_",
        "outputId": "4a9f1ad6-513d-4041-ae2e-ccad1a647447"
      },
      "execution_count": 44,
      "outputs": [
        {
          "output_type": "stream",
          "name": "stdout",
          "text": [
            "2022-06-15 21:15:56.459851: W tensorflow/core/util/tensor_slice_reader.cc:96] Could not open pre-trained-models/efficientdet_d1_coco17_tpu-32/checkpoint/: FAILED_PRECONDITION: pre-trained-models/efficientdet_d1_coco17_tpu-32/checkpoint; Is a directory: perhaps your file is in a different file format and you need to use a different restore operator?\n",
            "Traceback (most recent call last):\n",
            "  File \"/usr/local/lib/python3.7/dist-packages/tensorflow/python/training/py_checkpoint_reader.py\", line 92, in NewCheckpointReader\n",
            "    return CheckpointReader(compat.as_bytes(filepattern))\n",
            "RuntimeError: Unable to open table file pre-trained-models/efficientdet_d1_coco17_tpu-32/checkpoint/: FAILED_PRECONDITION: pre-trained-models/efficientdet_d1_coco17_tpu-32/checkpoint; Is a directory: perhaps your file is in a different file format and you need to use a different restore operator?\n",
            "\n",
            "During handling of the above exception, another exception occurred:\n",
            "\n",
            "Traceback (most recent call last):\n",
            "  File \"model_main_tf2.py\", line 114, in <module>\n",
            "    tf.compat.v1.app.run()\n",
            "  File \"/usr/local/lib/python3.7/dist-packages/tensorflow/python/platform/app.py\", line 36, in run\n",
            "    _run(main=main, argv=argv, flags_parser=_parse_flags_tolerate_undef)\n",
            "  File \"/usr/local/lib/python3.7/dist-packages/absl/app.py\", line 312, in run\n",
            "    _run_main(main, args)\n",
            "  File \"/usr/local/lib/python3.7/dist-packages/absl/app.py\", line 258, in _run_main\n",
            "    sys.exit(main(argv))\n",
            "  File \"model_main_tf2.py\", line 111, in main\n",
            "    record_summaries=FLAGS.record_summaries)\n",
            "  File \"/usr/local/lib/python3.7/dist-packages/object_detection/model_lib_v2.py\", line 609, in train_loop\n",
            "    train_input, unpad_groundtruth_tensors)\n",
            "  File \"/usr/local/lib/python3.7/dist-packages/object_detection/model_lib_v2.py\", line 408, in load_fine_tune_checkpoint\n",
            "    checkpoint_path).expect_partial().assert_existing_objects_matched()\n",
            "  File \"/usr/local/lib/python3.7/dist-packages/tensorflow/python/training/tracking/util.py\", line 1961, in restore\n",
            "    status = self._saver.restore(save_path=save_path)\n",
            "  File \"/usr/local/lib/python3.7/dist-packages/tensorflow/python/training/tracking/util.py\", line 1423, in restore\n",
            "    reader = py_checkpoint_reader.NewCheckpointReader(save_path)\n",
            "  File \"/usr/local/lib/python3.7/dist-packages/tensorflow/python/training/py_checkpoint_reader.py\", line 96, in NewCheckpointReader\n",
            "    error_translator(e)\n",
            "  File \"/usr/local/lib/python3.7/dist-packages/tensorflow/python/training/py_checkpoint_reader.py\", line 40, in error_translator\n",
            "    raise errors_impl.DataLossError(None, None, error_message)\n",
            "tensorflow.python.framework.errors_impl.DataLossError: Unable to open table file pre-trained-models/efficientdet_d1_coco17_tpu-32/checkpoint/: FAILED_PRECONDITION: pre-trained-models/efficientdet_d1_coco17_tpu-32/checkpoint; Is a directory: perhaps your file is in a different file format and you need to use a different restore operator?\n"
          ]
        }
      ]
    },
    {
      "cell_type": "code",
      "source": [
        ""
      ],
      "metadata": {
        "id": "-YPidTi2MYhs"
      },
      "execution_count": null,
      "outputs": []
    }
  ]
}