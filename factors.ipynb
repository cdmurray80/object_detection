{
  "nbformat": 4,
  "nbformat_minor": 0,
  "metadata": {
    "colab": {
      "provenance": [],
      "authorship_tag": "ABX9TyMLqXxrmvsavt5kzB6Kh/M1",
      "include_colab_link": true
    },
    "kernelspec": {
      "name": "python3",
      "display_name": "Python 3"
    },
    "language_info": {
      "name": "python"
    }
  },
  "cells": [
    {
      "cell_type": "markdown",
      "metadata": {
        "id": "view-in-github",
        "colab_type": "text"
      },
      "source": [
        "<a href=\"https://colab.research.google.com/github/cdmurray80/object_detection/blob/main/factors.ipynb\" target=\"_parent\"><img src=\"https://colab.research.google.com/assets/colab-badge.svg\" alt=\"Open In Colab\"/></a>"
      ]
    },
    {
      "cell_type": "code",
      "execution_count": 76,
      "metadata": {
        "id": "68XHm2Gjx1Wy"
      },
      "outputs": [],
      "source": [
        "import numpy as np, pandas as pd\n",
        "import matplotlib.pyplot as plt"
      ]
    },
    {
      "cell_type": "code",
      "source": [
        "\n",
        "#\n",
        "# Helper functions\n",
        "#\n",
        "# Given covariance, compute correlation\n",
        "def correlation_from_covariance(covariance):\n",
        "    v = np.sqrt(np.diag(covariance))\n",
        "    outer_v = np.outer(v, v)\n",
        "    correlation = covariance / outer_v\n",
        "    return correlation\n",
        "\n",
        "#Given covariance and loadings, compute variance.\n",
        "#If loadings represent differences from target, this will return tracking variance\n",
        "def compute_variance(cov, loadings):\n",
        "  return(np.matmul(loadings.transpose(),np.matmul(cov, loadings))[0,0])\n"
      ],
      "metadata": {
        "id": "dbJrzDiqx4UI"
      },
      "execution_count": 77,
      "outputs": []
    },
    {
      "cell_type": "code",
      "source": [
        "#\n",
        "# CHANGE THIS AS YOU SEE FIT\n",
        "#\n",
        "# Create our covariance matrix\n",
        "cov_diag_term = .6\n",
        "cov = np.matrix([[5.0,cov_diag_term],[cov_diag_term,0.3]]);\n",
        "\n",
        "#\n",
        "# Sanity check, and show \n",
        "assert(cov_diag_term < (cov[0,0]*cov[1,1])**0.5)\n",
        "cor = correlation_from_covariance(cov)\n",
        "print('Covariance:\\n', cov, '\\nCorrelation:\\n', cor)"
      ],
      "metadata": {
        "colab": {
          "base_uri": "https://localhost:8080/"
        },
        "id": "AE2FbbxDtB89",
        "outputId": "b13ed4fb-64ec-4ca1-a03e-842150f0de9f"
      },
      "execution_count": 78,
      "outputs": [
        {
          "output_type": "stream",
          "name": "stdout",
          "text": [
            "Covariance:\n",
            " [[5.  0.6]\n",
            " [0.6 0.3]] \n",
            "Correlation:\n",
            " [[1.         0.48989795]\n",
            " [0.48989795 1.        ]]\n"
          ]
        }
      ]
    },
    {
      "cell_type": "code",
      "source": [
        "def arrow_w_title(plt_ax, x, y, title, edg_color='b'):\n",
        "  plt_ax.arrow(0,0,x,y, head_length = 0.0, head_width=0.1, edgecolor=edg_color)\n",
        "  plt_ax.annotate(title, xy=(x,y+0.3))\n",
        "\n",
        "#\n",
        "# Plot vectors to show risk of unit exposure to either factor\n",
        "ax = plt.axes()\n",
        "unit_var = compute_variance(cov, np.matrix([[1.],[1.]]))\n",
        "arrow_w_title(ax, cov[0,0]**0.5,0, 'Factor 1')\n",
        "\n",
        "# This is a bit subtle...we use the covariance to scale our plot so that the\n",
        "# length of a vector with unit exposure to each factor is the risk of \n",
        "# unit exposure that each factor.\n",
        "#factor_2_dx = (unit_var - cov[1,1])**0.5 - cov[0,0]**0.5\n",
        "factor_2_dx = (unit_var - cov[0,0] - cov[1,1])/(2*(cov[0,0]**0.5))\n",
        "factor_2_dy = (cov[1,1] - factor_2_dx**2)**0.5\n",
        "arrow_w_title(ax, factor_2_dx,factor_2_dy, 'Factor 2')\n",
        "arrow_w_title(ax, cov[0,0]**0.5 + factor_2_dx,factor_2_dy, 'Factor1 + Factor2', edg_color='g')\n",
        "ax.set_xlim(-1,6)\n",
        "ax.set_ylim(-1,3)\n",
        "plt.title('Unit exposure to each factor, as well as to both')\n",
        "plt.show()"
      ],
      "metadata": {
        "colab": {
          "base_uri": "https://localhost:8080/",
          "height": 281
        },
        "id": "WYZGZc7LD9GO",
        "outputId": "186d25c9-67fd-4847-a6a7-9e1e8e6c7f90"
      },
      "execution_count": 79,
      "outputs": [
        {
          "output_type": "display_data",
          "data": {
            "text/plain": [
              "<Figure size 432x288 with 1 Axes>"
            ],
            "image/png": "[encoded data removed]"
          },
          "metadata": {
            "needs_background": "light"
          }
        }
      ]
    },
    {
      "cell_type": "code",
      "source": [
        "print('Port 1 has 1 unit of factor 1 and risk:',compute_variance(cov, np.matrix([[1.],[0.]]))**0.5)\n",
        "print('Port 2 has ~4 units of factor 2 and risk:',compute_variance(cov, np.matrix([[0.],[4.08]]))**0.5)\n",
        "print('Port 3 has 1 unit of factor 2 and risk:',compute_variance(cov, np.matrix([[0.],[1]]))**0.5)\n",
        "print('Covariance\\n',cov, '\\nCovariance sqroooted\\n', np.sqrt(cov))"
      ],
      "metadata": {
        "colab": {
          "base_uri": "https://localhost:8080/"
        },
        "id": "LP7aZEGQ0b_G",
        "outputId": "764b07de-76e7-4e05-f97e-07b4483444a4"
      },
      "execution_count": 80,
      "outputs": [
        {
          "output_type": "stream",
          "name": "stdout",
          "text": [
            "Port 1 has 1 unit of factor 1 and risk: 2.23606797749979\n",
            "Port 2 has ~4 units of factor 2 and risk: 2.234708034621078\n",
            "Port 3 has 1 unit of factor 2 and risk: 0.5477225575051661\n",
            "Covariance\n",
            " [[5.  0.6]\n",
            " [0.6 0.3]] \n",
            "Covariance sqroooted\n",
            " [[2.23606798 0.77459667]\n",
            " [0.77459667 0.54772256]]\n"
          ]
        }
      ]
    },
    {
      "cell_type": "code",
      "source": [
        "# Sanity check that the risk of unit exposure to each factor equals the plotted L2 norm\n",
        "print('Risk: {:.5f}, L2 Norm: {:.5f}'.format( unit_var ** 0.5, ((cov[0,0]**0.5 + factor_2_dx)**2 + factor_2_dy**2)** 0.5))"
      ],
      "metadata": {
        "colab": {
          "base_uri": "https://localhost:8080/"
        },
        "id": "MjxHz4yhuQY5",
        "outputId": "bebca5de-7913-480a-ddf6-0ecb64578953"
      },
      "execution_count": 81,
      "outputs": [
        {
          "output_type": "stream",
          "name": "stdout",
          "text": [
            "Risk: 2.54951, L2 Norm: 2.54951\n"
          ]
        }
      ]
    },
    {
      "cell_type": "code",
      "source": [
        "#Do eigen decomposition...annoying but we need extra code to sort eigenvectors so it's more than 1 line\n",
        "# Probably 95% of users want the result sorted...idk why it's not an argument to return in sorted order\n",
        "eigenvalues, eigenvectors = np.linalg.eig(cov)\n",
        "idx = (eigenvalues).argsort()[::-1]   \n",
        "eigenvectors = eigenvectors[:,idx]\n",
        "eigenvalues = eigenvalues[idx]\n",
        "\n",
        "# Plot samples and eigenvectors\n",
        "samples=np.random.multivariate_normal(np.array([0,0]),cov, size=4000)\n",
        "ax=plt.axes()\n",
        "plt.scatter(samples[:,0],samples[:,1])\n",
        "ax.set_xlim(-6,6)\n",
        "ax.set_ylim(-6,6)\n",
        "for i in range(2):\n",
        "  arrow_w_title(ax, eigenvectors[0,i]*eigenvalues[i]**0.5,eigenvectors[1,i]*eigenvalues[i]**0.5, 'EigVec ' + str(i+1), edg_color='r')\n",
        "  print( 'Eigenvalue ', i, ':\\nValue:', eigenvalues[i], '\\nVector:\\n', eigenvectors[:,i],'\\n\\n')\n",
        "plt.title('Eigenvectors and sample distribution')\n",
        "plt.show()"
      ],
      "metadata": {
        "colab": {
          "base_uri": "https://localhost:8080/",
          "height": 524
        },
        "id": "apN3jb_T5wBz",
        "outputId": "b25ba96f-ea12-455c-9a51-62a229f8dd46"
      },
      "execution_count": 82,
      "outputs": [
        {
          "output_type": "stream",
          "name": "stdout",
          "text": [
            "Eigenvalue  0 :\n",
            "Value: 5.075386567126981 \n",
            "Vector:\n",
            " [[0.992199  ]\n",
            " [0.12466413]] \n",
            "\n",
            "\n",
            "Eigenvalue  1 :\n",
            "Value: 0.22461343287301933 \n",
            "Vector:\n",
            " [[-0.12466413]\n",
            " [ 0.992199  ]] \n",
            "\n",
            "\n"
          ]
        },
        {
          "output_type": "display_data",
          "data": {
            "text/plain": [
              "<Figure size 432x288 with 1 Axes>"
            ],
            "image/png": "[encoded data removed]"
          },
          "metadata": {
            "needs_background": "light"
          }
        }
      ]
    },
    {
      "cell_type": "code",
      "source": [
        "# Now the orthogonal factors are simply the eigenvectors times the raw factors...here I make up 'raw' factor loadings and compute 'orthogonalized' loadings\n",
        "# Annoyingly you have to transpose the eigenvector matrix\n",
        "\n",
        "#\n",
        "# CHANGE NUMBERS HERE IF YOU WANT\n",
        "raw_factor_loadings = np.array([1.,0.0])\n",
        "\n",
        "# Here the orthogonalized factors are constructed to have unit variance, so the exposure is much larger in the first factors because it captures most variance\n",
        "orth_factor_loadings = np.multiply(np.sqrt(eigenvalues),np.matmul(eigenvectors.transpose(), raw_factor_loadings))\n",
        "print('Factor transformation: ', raw_factor_loadings, '-->', orth_factor_loadings)\n"
      ],
      "metadata": {
        "colab": {
          "base_uri": "https://localhost:8080/"
        },
        "id": "jUypGUGJkvwC",
        "outputId": "5e302714-24f2-48f1-8501-94a7114cf20a"
      },
      "execution_count": 86,
      "outputs": [
        {
          "output_type": "stream",
          "name": "stdout",
          "text": [
            "Factor transformation:  [1. 0.] --> [[ 2.23528729 -0.05908257]]\n"
          ]
        }
      ]
    },
    {
      "cell_type": "code",
      "source": [
        "orth_samples = np.matmul(eigenvectors.transpose(), samples.transpose()).transpose() #Alt could do samples * eigenvectors\n",
        "orth_samples = np.multiply(orth_samples, np.sqrt(eigenvalues))\n",
        "\n",
        "# Use .A1 to get as an array\n",
        "plt.scatter(orth_samples[:,0].A1,orth_samples[:,1].A1)\n",
        "plt.title('Distribution in orthogonal space...note that the axes may be skewed')\n",
        "plt.show()\n"
      ],
      "metadata": {
        "colab": {
          "base_uri": "https://localhost:8080/",
          "height": 281
        },
        "id": "sHGDgSgsufdw",
        "outputId": "d6da287a-1c28-440b-f6ac-9a5c595e16d1"
      },
      "execution_count": 84,
      "outputs": [
        {
          "output_type": "display_data",
          "data": {
            "text/plain": [
              "<Figure size 432x288 with 1 Axes>"
            ],
            "image/png": "[encoded data removed]"
          },
          "metadata": {
            "needs_background": "light"
          }
        }
      ]
    },
    {
      "cell_type": "code",
      "source": [
        "#\n",
        "# Now let's look at L1 norms of various things\n",
        "#\n"
      ],
      "metadata": {
        "id": "w2K6pHN-8vnN"
      },
      "execution_count": 85,
      "outputs": []
    }
  ]
}